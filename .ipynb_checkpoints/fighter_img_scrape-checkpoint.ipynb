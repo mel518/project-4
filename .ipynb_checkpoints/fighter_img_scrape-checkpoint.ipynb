{
 "cells": [
  {
   "cell_type": "code",
   "execution_count": 534,
   "id": "855339ea-19ef-4140-ba2f-e3579ef2fc7d",
   "metadata": {},
   "outputs": [],
   "source": [
    "#Dependencies\n",
    "from splinter import Browser\n",
    "from bs4 import BeautifulSoup\n",
    "from webdriver_manager.chrome import ChromeDriverManager\n",
    "import time"
   ]
  },
  {
   "cell_type": "markdown",
   "id": "e7141da9-eac8-475f-a72c-94fa1ac5101f",
   "metadata": {},
   "source": [
    "# MARS Article Scraping\n",
    "\n",
    "### Pull title and paragraph\n"
   ]
  },
  {
   "cell_type": "code",
   "execution_count": 535,
   "id": "d790ae64-f969-469c-b661-e38cc5816123",
   "metadata": {
    "tags": []
   },
   "outputs": [
    {
     "name": "stderr",
     "output_type": "stream",
     "text": [
      "\n",
      "\n",
      "====== WebDriver manager ======\n",
      "Current google-chrome version is 99.0.4844\n",
      "Get LATEST chromedriver version for 99.0.4844 google-chrome\n",
      "Driver [/Users/elizabethnguyen/.wdm/drivers/chromedriver/mac64/99.0.4844.51/chromedriver] found in cache\n"
     ]
    }
   ],
   "source": [
    "# Setup splinter\n",
    "executable_path = {'executable_path': ChromeDriverManager().install()}\n",
    "browser = Browser('chrome', **executable_path, headless=False)"
   ]
  },
  {
   "cell_type": "code",
   "execution_count": 536,
   "id": "4205e861-e45e-4750-84b3-57b5a6caa7ab",
   "metadata": {},
   "outputs": [],
   "source": [
    "# Scrape the Mars News Site\n",
    "url = \"https://redplanetscience.com/\"\n",
    "browser.visit(url)"
   ]
  },
  {
   "cell_type": "code",
   "execution_count": 537,
   "id": "1bea5bc7-5397-481a-a738-9546fd550ebd",
   "metadata": {},
   "outputs": [],
   "source": [
    "# Create html and tie to BeautifulSoup\n",
    "html = browser.html\n",
    "soup = BeautifulSoup(html, \"html.parser\")"
   ]
  },
  {
   "cell_type": "code",
   "execution_count": 538,
   "id": "db99bd0f-7fff-4d3a-9566-85bc8d1e039b",
   "metadata": {},
   "outputs": [
    {
     "data": {
      "text/plain": [
       "\"NASA's Perseverance Rover Attached to Atlas V Rocket\""
      ]
     },
     "execution_count": 538,
     "metadata": {},
     "output_type": "execute_result"
    }
   ],
   "source": [
    "# Find Title \n",
    "news_title = soup.find('div', class_=\"content_title\").text\n",
    "news_title"
   ]
  },
  {
   "cell_type": "code",
   "execution_count": 539,
   "id": "5df02ef8-1636-4f79-9a77-a199eff4b2d9",
   "metadata": {
    "tags": []
   },
   "outputs": [
    {
     "data": {
      "text/plain": [
       "'Ready for its launch later in the month, the Mars-bound rover will touch terra firma no more.'"
      ]
     },
     "execution_count": 539,
     "metadata": {},
     "output_type": "execute_result"
    }
   ],
   "source": [
    "# Find Paragraph Text\n",
    "news_p = soup.find('div', class_=\"article_teaser_body\").text\n",
    "news_p"
   ]
  },
  {
   "cell_type": "code",
   "execution_count": null,
   "id": "eca6f534-3c77-4a49-89c7-670fd03d7790",
   "metadata": {},
   "outputs": [],
   "source": []
  },
  {
   "cell_type": "markdown",
   "id": "80939e30-a099-4e25-8d5f-8817a0fcfcfe",
   "metadata": {},
   "source": [
    "# MARS Image Scraping\n",
    "\n",
    "### Pull Image"
   ]
  },
  {
   "cell_type": "code",
   "execution_count": 540,
   "id": "b0903bdd-db6d-4534-9dc9-dfcc03d5d220",
   "metadata": {},
   "outputs": [],
   "source": [
    "# Scrape the Mars Image Site\n",
    "img_url = \"https://spaceimages-mars.com\"\n",
    "browser.visit(img_url)"
   ]
  },
  {
   "cell_type": "code",
   "execution_count": 541,
   "id": "34d89aa1-8418-439c-86fa-e882492ca0bb",
   "metadata": {},
   "outputs": [],
   "source": [
    "# Find Image\n",
    "# Splinter click full image button\n",
    "browser.links.find_by_partial_text(\"FULL IMAGE\").click()\n",
    "time.sleep(3)"
   ]
  },
  {
   "cell_type": "code",
   "execution_count": 542,
   "id": "b27d88d5-008a-41d9-90c4-b07a54aec219",
   "metadata": {},
   "outputs": [],
   "source": [
    "# Create HTML and tie to BeautifulSoup\n",
    "img_html = browser.html\n",
    "\n",
    "# Create BeautifulSoup object and parse with HTML parser\n",
    "img_soup = BeautifulSoup(img_html, \"html.parser\")"
   ]
  },
  {
   "cell_type": "code",
   "execution_count": 543,
   "id": "c4d26535-5969-4507-814f-a8cc63f8983b",
   "metadata": {},
   "outputs": [
    {
     "data": {
      "text/plain": [
       "'https://spaceimages-mars.com/image/featured/mars2.jpg'"
      ]
     },
     "execution_count": 543,
     "metadata": {},
     "output_type": "execute_result"
    }
   ],
   "source": [
    "featured_img = img_soup.find(\"img\", class_ = \"fancybox-image\")\n",
    "\n",
    "featured_img_url =featured_img[\"src\"]\n",
    "featured_img_url = (\"https://spaceimages-mars.com/\" + featured_img_url)\n",
    "featured_img_url"
   ]
  },
  {
   "cell_type": "code",
   "execution_count": 544,
   "id": "988f6c00-499d-44d6-9ef3-8519c325b4c0",
   "metadata": {},
   "outputs": [],
   "source": [
    "browser.quit()"
   ]
  },
  {
   "cell_type": "markdown",
   "id": "903d89a3-fb74-4e74-b94d-f765e9ca7fca",
   "metadata": {},
   "source": [
    "# MARS Table Scraping\n",
    "\n",
    "### Pull Table"
   ]
  },
  {
   "cell_type": "code",
   "execution_count": 525,
   "id": "51aff850-c3a4-4657-9440-84a00371b9bb",
   "metadata": {},
   "outputs": [],
   "source": [
    "import pandas as pd"
   ]
  },
  {
   "cell_type": "code",
   "execution_count": 526,
   "id": "61c5d119-f63a-4065-8925-76a53d1821e9",
   "metadata": {},
   "outputs": [
    {
     "data": {
      "text/plain": [
       "[                         0                1                2\n",
       " 0  Mars - Earth Comparison             Mars            Earth\n",
       " 1                Diameter:         6,779 km        12,742 km\n",
       " 2                    Mass:  6.39 × 10^23 kg  5.97 × 10^24 kg\n",
       " 3                   Moons:                2                1\n",
       " 4       Distance from Sun:   227,943,824 km   149,598,262 km\n",
       " 5          Length of Year:   687 Earth days      365.24 days\n",
       " 6             Temperature:     -87 to -5 °C      -88 to 58°C,\n",
       "                       0                              1\n",
       " 0  Equatorial Diameter:                       6,792 km\n",
       " 1       Polar Diameter:                       6,752 km\n",
       " 2                 Mass:  6.39 × 10^23 kg (0.11 Earths)\n",
       " 3                Moons:          2 ( Phobos & Deimos )\n",
       " 4       Orbit Distance:       227,943,824 km (1.38 AU)\n",
       " 5         Orbit Period:           687 days (1.9 years)\n",
       " 6  Surface Temperature:                   -87 to -5 °C\n",
       " 7         First Record:              2nd millennium BC\n",
       " 8          Recorded By:           Egyptian astronomers]"
      ]
     },
     "execution_count": 526,
     "metadata": {},
     "output_type": "execute_result"
    }
   ],
   "source": [
    "url = 'https://galaxyfacts-mars.com'\n",
    "\n",
    "tables = pd.read_html(url)\n",
    "tables"
   ]
  },
  {
   "cell_type": "code",
   "execution_count": 527,
   "id": "792b167d-1dfa-498f-bcfa-ea22a3244ec6",
   "metadata": {},
   "outputs": [
    {
     "name": "stdout",
     "output_type": "stream",
     "text": [
      "                                    Mars            Earth\n",
      "Details                                                  \n",
      "Mars - Earth Comparison             Mars            Earth\n",
      "Diameter:                       6,779 km        12,742 km\n",
      "Mass:                    6.39 × 10^23 kg  5.97 × 10^24 kg\n",
      "Moons:                                 2                1\n",
      "Distance from Sun:        227,943,824 km   149,598,262 km\n",
      "Length of Year:           687 Earth days      365.24 days\n",
      "Temperature:                -87 to -5 °C      -88 to 58°C\n"
     ]
    }
   ],
   "source": [
    "df = tables[0]\n",
    "df.columns = ['Details', 'Mars', 'Earth']\n",
    "\n",
    "df.set_index('Details', inplace=True)\n",
    "print(df)"
   ]
  },
  {
   "cell_type": "markdown",
   "id": "3959afe8-9952-4344-b81b-f5706cce1062",
   "metadata": {},
   "source": [
    "# MARS Hemispheres Img Scraping"
   ]
  },
  {
   "cell_type": "code",
   "execution_count": 528,
   "id": "fd5d9510-e6b1-4c2c-a725-ffc3eb9a44e6",
   "metadata": {},
   "outputs": [
    {
     "name": "stderr",
     "output_type": "stream",
     "text": [
      "\n",
      "\n",
      "====== WebDriver manager ======\n",
      "Current google-chrome version is 99.0.4844\n",
      "Get LATEST chromedriver version for 99.0.4844 google-chrome\n",
      "Driver [/Users/elizabethnguyen/.wdm/drivers/chromedriver/mac64/99.0.4844.51/chromedriver] found in cache\n"
     ]
    }
   ],
   "source": [
    "executable_path = {'executable_path': ChromeDriverManager().install()}\n",
    "browser = Browser('chrome', **executable_path, headless=False)"
   ]
  },
  {
   "cell_type": "code",
   "execution_count": 529,
   "id": "67f1331a-cad4-404a-bd18-b801c1f7c2ab",
   "metadata": {},
   "outputs": [],
   "source": [
    "hem_url = 'https://marshemispheres.com/'\n",
    "browser.visit(hem_url)"
   ]
  },
  {
   "cell_type": "code",
   "execution_count": 530,
   "id": "a9ea2027-640d-4f94-a53f-14c0c5b1d591",
   "metadata": {},
   "outputs": [],
   "source": [
    "# HTML object\n",
    "hem_imgs_html = browser.html\n",
    "hem_soup = BeautifulSoup(hem_imgs_html, 'html.parser')"
   ]
  },
  {
   "cell_type": "code",
   "execution_count": 531,
   "id": "54032e44-f0d1-4fcf-9874-886b9db03885",
   "metadata": {},
   "outputs": [
    {
     "data": {
      "text/plain": [
       "[<h3>Cerberus Hemisphere Enhanced</h3>,\n",
       " <h3>Schiaparelli Hemisphere Enhanced</h3>,\n",
       " <h3>Syrtis Major Hemisphere Enhanced</h3>,\n",
       " <h3>Valles Marineris Hemisphere Enhanced</h3>,\n",
       " <h3>Back</h3>]"
      ]
     },
     "execution_count": 531,
     "metadata": {},
     "output_type": "execute_result"
    }
   ],
   "source": [
    "# Article Titles\n",
    "hem_titles = hem_soup.find_all('h3')\n",
    "hem_titles"
   ]
  },
  {
   "cell_type": "code",
   "execution_count": 532,
   "id": "c7bbf705-1515-40f9-948e-3d2d5effed6d",
   "metadata": {},
   "outputs": [],
   "source": [
    "hemisphere_image_urls = []\n",
    "hemisphere_dicts = {\"title\": [] , \"img_url\": []}\n",
    "\n",
    "for titles in hem_titles[0:4]:\n",
    "\n",
    "    title = titles.text\n",
    "    \n",
    "    # Scrape the Mars Image Site\n",
    "    img_url = \"https://marshemispheres.com/\"\n",
    "    browser.visit(img_url)\n",
    "    \n",
    "    browser.links.find_by_partial_text(title).click()\n",
    "    browser.links.find_by_partial_text(\"Sample\").click()\n",
    "    \n",
    "    # Create HTML and tie to BeautifulSoup\n",
    "    img_html = browser.html\n",
    "\n",
    "    # Create BeautifulSoup object and parse with HTML parser\n",
    "    img_soup = BeautifulSoup(img_html, \"html.parser\")\n",
    "    \n",
    "    featured_img = img_soup.find(\"div\", class_ = \"downloads\").find(\"ul\").find(\"li\").find(\"a\")[\"href\"]\n",
    "    featured_img = (\"https://marshemispheres.com/\" + featured_img)\n",
    "    \n",
    "    \n",
    "    hemisphere_dicts = {\"title\": title, \"img_url\": featured_img}\n",
    "    hemisphere_image_urls.append(hemisphere_dicts)\n",
    "\n",
    "browser.quit()"
   ]
  },
  {
   "cell_type": "code",
   "execution_count": 533,
   "id": "592c54c7-5c2c-4d96-a2a5-8aa9da7f893f",
   "metadata": {},
   "outputs": [
    {
     "name": "stdout",
     "output_type": "stream",
     "text": [
      "[{'title': 'Cerberus Hemisphere Enhanced', 'img_url': 'https://marshemispheres.com/images/full.jpg'}, {'title': 'Schiaparelli Hemisphere Enhanced', 'img_url': 'https://marshemispheres.com/images/schiaparelli_enhanced-full.jpg'}, {'title': 'Syrtis Major Hemisphere Enhanced', 'img_url': 'https://marshemispheres.com/images/syrtis_major_enhanced-full.jpg'}, {'title': 'Valles Marineris Hemisphere Enhanced', 'img_url': 'https://marshemispheres.com/images/valles_marineris_enhanced-full.jpg'}]\n"
     ]
    }
   ],
   "source": [
    "print(hemisphere_image_urls)"
   ]
  },
  {
   "cell_type": "code",
   "execution_count": null,
   "id": "9cfa2123-53d4-40bd-b7ff-7a1b79665890",
   "metadata": {},
   "outputs": [],
   "source": []
  }
 ],
 "metadata": {
  "kernelspec": {
   "display_name": "Python 3 (ipykernel)",
   "language": "python",
   "name": "python3"
  },
  "language_info": {
   "codemirror_mode": {
    "name": "ipython",
    "version": 3
   },
   "file_extension": ".py",
   "mimetype": "text/x-python",
   "name": "python",
   "nbconvert_exporter": "python",
   "pygments_lexer": "ipython3",
   "version": "3.9.7"
  }
 },
 "nbformat": 4,
 "nbformat_minor": 5
}
