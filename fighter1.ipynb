{
 "cells": [
  {
   "cell_type": "code",
   "execution_count": null,
   "metadata": {},
   "outputs": [],
   "source": [
    "import pandas as pd\n",
    "import sys"
   ]
  },
  {
   "cell_type": "code",
   "execution_count": null,
   "metadata": {},
   "outputs": [],
   "source": [
    "df=pd.read_csv('data.csv')"
   ]
  },
  {
   "cell_type": "code",
   "execution_count": null,
   "metadata": {},
   "outputs": [],
   "source": [
    "with pd.option_context(\"display.max_columns\", None):\n",
    "    display(df)"
   ]
  },
  {
   "cell_type": "code",
   "execution_count": null,
   "metadata": {},
   "outputs": [],
   "source": [
    "rfighter = df[\"R_fighter\"]\n",
    "rfighter\n",
    "\n",
    "bfighter = df[\"B_fighter\"]\n",
    "bfighter\n",
    "\n",
    "fighters= rfighter.append(bfighter)\n",
    "fighters.drop_duplicates().reset_index().drop(columns=\"index\")"
   ]
  },
  {
   "cell_type": "code",
   "execution_count": null,
   "metadata": {},
   "outputs": [],
   "source": [
    "dfblue = df[['B_fighter',\n",
    " 'Referee',\n",
    " 'date',\n",
    " 'location',\n",
    " 'Winner',\n",
    " 'title_bout',\n",
    " 'weight_class',\n",
    " 'B_avg_KD',\n",
    " 'B_avg_opp_KD',\n",
    " 'B_avg_SIG_STR_pct',\n",
    " 'B_avg_opp_SIG_STR_pct',\n",
    " 'B_avg_TD_pct',\n",
    " 'B_avg_opp_TD_pct',\n",
    " 'B_avg_SUB_ATT',\n",
    " 'B_avg_opp_SUB_ATT',\n",
    " 'B_avg_REV',\n",
    " 'B_avg_opp_REV',\n",
    " 'B_avg_SIG_STR_att',\n",
    " 'B_avg_SIG_STR_landed',\n",
    " 'B_avg_opp_SIG_STR_att',\n",
    " 'B_avg_opp_SIG_STR_landed',\n",
    " 'B_avg_TOTAL_STR_att',\n",
    " 'B_avg_TOTAL_STR_landed',\n",
    " 'B_avg_opp_TOTAL_STR_att',\n",
    " 'B_avg_opp_TOTAL_STR_landed',\n",
    " 'B_avg_TD_att',\n",
    " 'B_avg_TD_landed',\n",
    " 'B_avg_opp_TD_att',\n",
    " 'B_avg_opp_TD_landed',\n",
    " 'B_avg_HEAD_att',\n",
    " 'B_avg_HEAD_landed',\n",
    " 'B_avg_opp_HEAD_att',\n",
    " 'B_avg_opp_HEAD_landed',\n",
    " 'B_avg_BODY_att',\n",
    " 'B_avg_BODY_landed',\n",
    " 'B_avg_opp_BODY_att',\n",
    " 'B_avg_opp_BODY_landed',\n",
    " 'B_avg_LEG_att',\n",
    " 'B_avg_LEG_landed',\n",
    " 'B_avg_opp_LEG_att',\n",
    " 'B_avg_opp_LEG_landed',\n",
    " 'B_avg_DISTANCE_att',\n",
    " 'B_avg_DISTANCE_landed',\n",
    " 'B_avg_opp_DISTANCE_att',\n",
    " 'B_avg_opp_DISTANCE_landed',\n",
    " 'B_avg_CLINCH_att',\n",
    " 'B_avg_CLINCH_landed',\n",
    " 'B_avg_opp_CLINCH_att',\n",
    " 'B_avg_opp_CLINCH_landed',\n",
    " 'B_avg_GROUND_att',\n",
    " 'B_avg_GROUND_landed',\n",
    " 'B_avg_opp_GROUND_att',\n",
    " 'B_avg_opp_GROUND_landed',\n",
    " 'B_avg_CTRL_time(seconds)',\n",
    " 'B_avg_opp_CTRL_time(seconds)',\n",
    " 'B_total_time_fought(seconds)',\n",
    " 'B_total_rounds_fought',\n",
    " 'B_total_title_bouts',\n",
    " 'B_current_win_streak',\n",
    " 'B_current_lose_streak',\n",
    " 'B_longest_win_streak',\n",
    " 'B_wins',\n",
    " 'B_losses',\n",
    " 'B_draw',\n",
    " 'B_win_by_Decision_Majority',\n",
    " 'B_win_by_Decision_Split',\n",
    " 'B_win_by_Decision_Unanimous',\n",
    " 'B_win_by_KO/TKO',\n",
    " 'B_win_by_Submission',\n",
    " 'B_win_by_TKO_Doctor_Stoppage',\n",
    " 'B_Stance',\n",
    " 'B_Height_cms','B_Reach_cms','B_Weight_lbs','B_age']]"
   ]
  },
  {
   "cell_type": "code",
   "execution_count": null,
   "metadata": {},
   "outputs": [],
   "source": [
    "dfblue"
   ]
  },
  {
   "cell_type": "code",
   "execution_count": null,
   "metadata": {},
   "outputs": [],
   "source": [
    "dfred = df[['R_fighter',\n",
    " 'Referee',\n",
    " 'date',\n",
    " 'location',\n",
    " 'Winner',\n",
    " 'title_bout',\n",
    " 'weight_class',\n",
    " 'R_avg_KD',\n",
    " 'R_avg_opp_KD',\n",
    " 'R_avg_SIG_STR_pct',#10\n",
    " 'R_avg_opp_SIG_STR_pct',\n",
    " 'R_avg_TD_pct',\n",
    " 'R_avg_opp_TD_pct',\n",
    " 'R_avg_SUB_ATT',\n",
    " 'R_avg_opp_SUB_ATT',\n",
    " 'R_avg_REV',\n",
    " 'R_avg_opp_REV',\n",
    " 'R_avg_SIG_STR_att',\n",
    " 'R_avg_SIG_STR_landed',\n",
    " 'R_avg_opp_SIG_STR_att',#20\n",
    " 'R_avg_opp_SIG_STR_landed',\n",
    " 'R_avg_TOTAL_STR_att',\n",
    " 'R_avg_TOTAL_STR_landed',\n",
    " 'R_avg_opp_TOTAL_STR_att',\n",
    " 'R_avg_opp_TOTAL_STR_landed',#25\n",
    " 'R_avg_TD_att',\n",
    " 'R_avg_TD_landed',\n",
    " 'R_avg_opp_TD_att',\n",
    " 'R_avg_opp_TD_landed',\n",
    " 'R_avg_HEAD_att',#30\n",
    " 'R_avg_HEAD_landed',\n",
    " 'R_avg_opp_HEAD_att',\n",
    " 'R_avg_opp_HEAD_landed',\n",
    " 'R_avg_BODY_att',\n",
    " 'R_avg_BODY_landed',#35\n",
    " 'R_avg_opp_BODY_att',\n",
    " 'R_avg_opp_BODY_landed',\n",
    " 'R_avg_LEG_att',\n",
    " 'R_avg_LEG_landed',\n",
    " 'R_avg_opp_LEG_att',#40\n",
    " 'R_avg_opp_LEG_landed',\n",
    " 'R_avg_DISTANCE_att',\n",
    " 'R_avg_DISTANCE_landed',\n",
    " 'R_avg_opp_DISTANCE_att',\n",
    " 'R_avg_opp_DISTANCE_landed',#45\n",
    " 'R_avg_CLINCH_att',\n",
    " 'R_avg_CLINCH_landed',\n",
    " 'R_avg_opp_CLINCH_att',\n",
    " 'R_avg_opp_CLINCH_landed',\n",
    " 'R_avg_GROUND_att',#50\n",
    " 'R_avg_GROUND_landed',\n",
    " 'R_avg_opp_GROUND_att',\n",
    " 'R_avg_opp_GROUND_landed',\n",
    " 'R_avg_CTRL_time(seconds)',\n",
    " 'R_avg_opp_CTRL_time(seconds)',#55\n",
    " 'R_total_time_fought(seconds)',\n",
    " 'R_total_rounds_fought',\n",
    " 'R_total_title_bouts',\n",
    " 'R_current_win_streak',\n",
    " 'R_current_lose_streak',#60\n",
    " 'R_longest_win_streak',\n",
    " 'R_wins',\n",
    " 'R_losses',\n",
    " 'R_draw',\n",
    " 'R_win_by_Decision_Majority',#65\n",
    " 'R_win_by_Decision_Split',\n",
    " 'R_win_by_Decision_Unanimous',\n",
    " 'R_win_by_KO/TKO',\n",
    " 'R_win_by_Submission',\n",
    " 'R_win_by_TKO_Doctor_Stoppage',#70\n",
    " 'R_Stance',\n",
    " 'R_Height_cms',\n",
    " 'R_Reach_cms',\n",
    " 'R_Weight_lbs','R_age']]\n",
    "dfred"
   ]
  },
  {
   "cell_type": "code",
   "execution_count": null,
   "metadata": {},
   "outputs": [],
   "source": [
    "dfred.columns = dfred.columns.str.replace('R_', '')\n",
    "dfred.columns = dfred.columns.str.replace('B_', '')\n",
    "dfblue.columns = dfblue.columns.str.replace('B_', '')\n",
    "dfblue.columns = dfblue.columns.str.replace('R_', '')"
   ]
  },
  {
   "cell_type": "code",
   "execution_count": null,
   "metadata": {},
   "outputs": [],
   "source": [
    "dfunion= dfred.append(dfblue)\n",
    "dfunion.reset_index().drop(columns=\"index\")\n",
    "dfunion.head()"
   ]
  },
  {
   "cell_type": "code",
   "execution_count": null,
   "metadata": {},
   "outputs": [],
   "source": [
    "dfunion.columns"
   ]
  },
  {
   "cell_type": "code",
   "execution_count": null,
   "metadata": {},
   "outputs": [],
   "source": [
    "dfunion.to_csv('combined_fighter.csv')"
   ]
  },
  {
   "cell_type": "code",
   "execution_count": null,
   "metadata": {},
   "outputs": [],
   "source": [
    "dfunion[dfunion.fighter=='Conor McGregor'].head(10)"
   ]
  }
 ],
 "metadata": {
  "language_info": {
   "name": "python"
  },
  "orig_nbformat": 4
 },
 "nbformat": 4,
 "nbformat_minor": 2
}
